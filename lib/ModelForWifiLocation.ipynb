{
  "nbformat": 4,
  "nbformat_minor": 0,
  "metadata": {
    "colab": {
      "provenance": []
    },
    "kernelspec": {
      "name": "python3",
      "display_name": "Python 3"
    },
    "language_info": {
      "name": "python"
    }
  },
  "cells": [
    {
      "cell_type": "code",
      "source": [
        "pip install sklite"
      ],
      "metadata": {
        "colab": {
          "base_uri": "https://localhost:8080/"
        },
        "id": "kkh3i8uA3-la",
        "outputId": "78dd3c1e-3b35-4cda-cda1-d0f1239d6600"
      },
      "execution_count": 1,
      "outputs": [
        {
          "output_type": "stream",
          "name": "stdout",
          "text": [
            "Collecting sklite\n",
            "  Downloading sklite-0.0.2-py3-none-any.whl.metadata (2.2 kB)\n",
            "Downloading sklite-0.0.2-py3-none-any.whl (11 kB)\n",
            "Installing collected packages: sklite\n",
            "Successfully installed sklite-0.0.2\n"
          ]
        }
      ]
    },
    {
      "cell_type": "code",
      "source": [
        "import json\n",
        "\n",
        "# Open and read the JSON file\n",
        "with open('1stfloorwifi.json', 'r') as file:\n",
        "    floor1 = json.load(file)\n",
        "with open('2ndfloorwifi.json', 'r') as file:\n",
        "    floor2 = json.load(file)\n",
        "with open('3rdfloorwifi.json', 'r') as file:\n",
        "    floor3 = json.load(file)\n",
        "with open('4thfloorwifi.json', 'r') as file:\n",
        "    floor4 = json.load(file)\n",
        "with open('5thfloorwifi.json', 'r') as file:\n",
        "    floor5 = json.load(file)\n",
        "with open('terracewifi.json', 'r') as file:\n",
        "    terrace = json.load(file)\n",
        "\n",
        "data = floor1 + floor2 + floor3 + floor4 + floor5 + terrace"
      ],
      "metadata": {
        "id": "9Jsa2yOsqvuV"
      },
      "execution_count": 2,
      "outputs": []
    },
    {
      "cell_type": "code",
      "source": [
        "import csv\n",
        "\n",
        "# Collect all unique BSSIDs from the data\n",
        "bssids = set()\n",
        "for entry in data:\n",
        "    for wifi in entry['wifi']:\n",
        "        bssids.add(wifi['bssid'])\n",
        "\n",
        "sort_bssid = sorted(bssids)  # Sort BSSIDs for consistent column ordering\n",
        "print(sort_bssid)"
      ],
      "metadata": {
        "colab": {
          "base_uri": "https://localhost:8080/"
        },
        "id": "oVWq_cp63VGP",
        "outputId": "56ac19ec-0f58-4a66-f24c-12970baf5c95"
      },
      "execution_count": 4,
      "outputs": [
        {
          "output_type": "stream",
          "name": "stdout",
          "text": [
            "['0a:7b:c8:a8:9d:d5', '0a:7b:c8:a9:4d:96', '0a:7b:c8:a9:4e:dc', '0a:7b:c8:a9:4f:8a', '0a:7b:c8:a9:50:a6', '0a:7b:c8:a9:50:e2', '0a:7b:c8:a9:52:b5', '0a:7b:c8:a9:57:2c', '0a:7b:c8:a9:5c:b2', '0a:7b:c8:a9:5f:e7', '0a:7b:c8:a9:61:fd', '0a:7b:c8:a9:62:ba', '0a:7b:c8:a9:64:39', '0a:7b:c8:a9:64:c7', '0a:7b:c8:a9:6a:62', '0a:7b:c8:ab:04:1e', '0a:7b:d8:a8:9d:d5', '0a:7b:d8:a9:4d:96', '0a:7b:d8:a9:4e:dc', '0a:7b:d8:a9:4f:8a', '0a:7b:d8:a9:50:a6', '0a:7b:d8:a9:50:e2', '0a:7b:d8:a9:52:b5', '0a:7b:d8:a9:57:2c', '0a:7b:d8:a9:5c:b2', '0a:7b:d8:a9:5f:e7', '0a:7b:d8:a9:61:fd', '0a:7b:d8:a9:62:ba', '0a:7b:d8:a9:64:39', '0a:7b:d8:a9:64:c7', '0a:7b:d8:a9:6a:62', '0a:7b:d8:ab:04:1e', '0a:7b:d8:ab:1d:1b', 'e2:55:a8:10:8f:51', 'e2:55:a8:10:8f:83', 'e2:55:a8:10:8f:9f', 'e2:55:a8:10:8f:b7', 'e2:55:a8:10:96:5d', 'e2:55:a8:10:96:88', 'e2:55:a8:10:a9:b4', 'e2:55:a8:10:af:1e', 'e2:55:a8:10:af:1f', 'e2:55:a8:10:af:21', 'e2:55:a8:10:af:3a', 'e2:55:a8:10:af:4b', 'e2:55:a8:10:e5:48', 'e2:55:a8:10:e5:4a', 'e2:55:a8:10:e5:6a', 'e2:55:a8:10:e5:6b', 'e2:55:a8:11:17:d2', 'e2:55:a8:20:63:cf', 'e2:55:a8:20:64:34', 'e2:55:a8:20:64:7d', 'e2:55:a8:20:67:8c', 'e2:55:a8:20:67:c5', 'e2:55:a8:20:6a:46', 'e2:55:a8:20:6b:35', 'e2:55:a8:27:a5:59', 'e2:55:a8:57:cf:d7', 'e2:55:b8:10:8f:51', 'e2:55:b8:10:8f:83', 'e2:55:b8:10:8f:9f', 'e2:55:b8:10:8f:b7', 'e2:55:b8:10:96:5d', 'e2:55:b8:10:96:88', 'e2:55:b8:10:a9:90', 'e2:55:b8:10:a9:b4', 'e2:55:b8:10:af:1e', 'e2:55:b8:10:af:1f', 'e2:55:b8:10:af:21', 'e2:55:b8:10:af:3a', 'e2:55:b8:10:af:46', 'e2:55:b8:10:af:4b', 'e2:55:b8:10:e5:48', 'e2:55:b8:10:e5:4a', 'e2:55:b8:10:e5:6a', 'e2:55:b8:10:e5:6b', 'e2:55:b8:11:17:d2', 'e2:55:b8:20:63:cf', 'e2:55:b8:20:64:34', 'e2:55:b8:20:64:7d', 'e2:55:b8:20:67:8c', 'e2:55:b8:20:67:c5', 'e2:55:b8:20:6a:46', 'e2:55:b8:20:6b:35', 'e2:55:b8:27:a5:59', 'e2:55:b8:57:cf:d7']\n"
          ]
        }
      ]
    },
    {
      "cell_type": "code",
      "source": [
        "output_file = 'wifidatatrain.csv'\n",
        "\n",
        "# Collect all unique BSSIDs from the data\n",
        "bssids = set()\n",
        "for entry in data:\n",
        "    for wifi in entry['wifi']:\n",
        "        bssids.add(wifi['bssid'])\n",
        "\n",
        "bssids = sort_bssid\n",
        "\n",
        "# Create the CSV file\n",
        "with open(output_file, 'w', newline='') as csvfile:\n",
        "    # Create CSV writer object\n",
        "    csvwriter = csv.writer(csvfile)\n",
        "\n",
        "    # Write the header (BSSID values)\n",
        "    header = ['index','room'] + bssids\n",
        "    csvwriter.writerow(header)\n",
        "\n",
        "    # Write rows for each data entry\n",
        "    for index, entry in enumerate(data):\n",
        "        row = [\n",
        "            index,  # Index\n",
        "            entry['room'],  # Room\n",
        "            #entry['place_collection_number']  # Place Collection Number\n",
        "        ]\n",
        "        bssid_signal = {wifi['bssid']: wifi['signal_strength'] for wifi in entry['wifi']}\n",
        "\n",
        "        # Fill the row with signal strength, or leave blank if no signal for that BSSID\n",
        "        row.extend([bssid_signal.get(bssid, 0) for bssid in bssids])\n",
        "        csvwriter.writerow(row)\n",
        "\n",
        "print(f\"Data has been successfully written to {output_file}\")"
      ],
      "metadata": {
        "colab": {
          "base_uri": "https://localhost:8080/"
        },
        "id": "RRLSbI4I3ta8",
        "outputId": "231790bf-c62a-4e49-f905-948f6ccb06d0"
      },
      "execution_count": 5,
      "outputs": [
        {
          "output_type": "stream",
          "name": "stdout",
          "text": [
            "Data has been successfully written to wifidatatrain.csv\n"
          ]
        }
      ]
    },
    {
      "cell_type": "code",
      "source": [
        "import pandas as pd\n",
        "\n",
        "# Load the uploaded CSV file to examine its contents\n",
        "file_path = 'wifidatatrain.csv'\n",
        "data = pd.read_csv(file_path)\n",
        "\n",
        "signal_columns = data.columns.difference(['index', 'room'])\n",
        "\n",
        "def transform_row(row):\n",
        "    # Extract only signal values for processing\n",
        "    signals = row[signal_columns]\n",
        "\n",
        "    # Find the highest non-zero signal value\n",
        "    min_non_zero = signals[signals != 0].min()\n",
        "    max_non_zero = signals[signals != 0].max()\n",
        "\n",
        "    if pd.isna(min_non_zero) or min_non_zero == 0:  # Handle rows with all zeros\n",
        "        return row\n",
        "\n",
        "    range = max_non_zero - min_non_zero\n",
        "\n",
        "    # Calculate the transformation for non-zero values that are not the highest value\n",
        "    transformed_signals = signals.apply(\n",
        "        #lambda x: x / max_non_zero if x == max_non_zero else -(max_non_zero - x) / max_non_zero if x != 0 else x\n",
        "        lambda x: 0 if x == min_non_zero else -(min_non_zero - x) / range if x != 0 else -1\n",
        "    )\n",
        "\n",
        "    # Update the row with the transformed signal values\n",
        "    row[signal_columns] = transformed_signals\n",
        "    return row\n",
        "\n",
        "# Apply the transformation to each row again\n",
        "transformed_data = data.apply(transform_row, axis=1)\n",
        "\n",
        "# Save the modified DataFrame to a new file\n",
        "output_path = 'wifidata_transformed.csv'\n",
        "transformed_data.to_csv(output_path, index=False)\n",
        "\n",
        "output_path"
      ],
      "metadata": {
        "colab": {
          "base_uri": "https://localhost:8080/",
          "height": 35
        },
        "id": "CSMyb5v93viR",
        "outputId": "dbae37b8-ea05-46ee-d896-80c3c3f7e748"
      },
      "execution_count": 6,
      "outputs": [
        {
          "output_type": "execute_result",
          "data": {
            "text/plain": [
              "'wifidata_transformed.csv'"
            ],
            "application/vnd.google.colaboratory.intrinsic+json": {
              "type": "string"
            }
          },
          "metadata": {},
          "execution_count": 6
        }
      ]
    },
    {
      "cell_type": "code",
      "source": [
        "from sklearn.preprocessing import LabelEncoder\n",
        "\n",
        "le_area = LabelEncoder()\n",
        "\n",
        "train = pd.read_csv(\"wifidata_transformed.csv\")\n",
        "\n",
        "train['room_n'] = le_area.fit_transform(train['room'])\n",
        "\n",
        "target = train[\"room_n\"]\n",
        "signal = train.drop([\"index\",\"room\", \"room_n\"],axis=\"columns\")"
      ],
      "metadata": {
        "id": "LdcoM4Q_31Ga"
      },
      "execution_count": 7,
      "outputs": []
    },
    {
      "cell_type": "code",
      "source": [
        "from itertools import groupby\n",
        "a = -1\n",
        "b = []\n",
        "numbers = train[\"room_n\"]\n",
        "rooms = train[\"room\"]\n",
        "for x in range(len(numbers)):\n",
        "  if numbers[x] != a:\n",
        "    a = numbers[x]\n",
        "    b.append((numbers[x],rooms[x]))\n",
        "  else:\n",
        "    continue\n",
        "b.sort(key=lambda x: x[0])\n",
        "res = {key: [value for key, value in group] for key, group in groupby(b, key=lambda x: x[0])}\n",
        "for room in b:\n",
        "  print(room)"
      ],
      "metadata": {
        "colab": {
          "base_uri": "https://localhost:8080/"
        },
        "id": "KfaJzsYp342C",
        "outputId": "286b25e9-5548-4348-d91c-518fdaddfb6b"
      },
      "execution_count": 8,
      "outputs": [
        {
          "output_type": "stream",
          "name": "stdout",
          "text": [
            "(0, '3005')\n",
            "(1, '3015')\n",
            "(2, '3rd floor_1')\n",
            "(3, '3rd floor_10')\n",
            "(4, '3rd floor_12')\n",
            "(5, '4th floor_11')\n",
            "(6, '4th floor_12')\n",
            "(7, '4th floor_2')\n",
            "(8, '4th floor_library')\n",
            "(9, 'JOMA Cafe')\n",
            "(10, 'Senior Lounge')\n",
            "(11, 'Terrace')\n",
            "(12, 'outside 5007')\n",
            "(13, 'outside 5008')\n",
            "(14, 'outside 5009')\n",
            "(15, 'outside 5th floor conference room')\n",
            "(16, 'outside BlackBox')\n",
            "(17, 'outside gym')\n",
            "(18, 'outside room 3010')\n",
            "(19, 'outside room 3011')\n",
            "(20, 'outside room 3012')\n",
            "(21, 'outside room 3013')\n",
            "(22, 'outside room 4010')\n",
            "(23, 'outside room 4011')\n",
            "(24, 'outside room 4012')\n",
            "(25, 'room 3008')\n",
            "(26, 'room 3009')\n",
            "(27, 'room 3010')\n",
            "(28, 'room 3013')\n",
            "(29, 'room 4008')\n"
          ]
        }
      ]
    },
    {
      "cell_type": "code",
      "source": [
        "from sklite import LazyExport\n",
        "from sklearn.neighbors import KNeighborsClassifier\n",
        "\n",
        "model = KNeighborsClassifier(n_neighbors=28)\n",
        "model.fit(signal, target)\n",
        "\n",
        "lazy = LazyExport(model)\n",
        "lazy.save('wififlex.json')"
      ],
      "metadata": {
        "colab": {
          "base_uri": "https://localhost:8080/"
        },
        "id": "pxbjJ7E_38Ua",
        "outputId": "79b86253-9e48-47da-caa1-3f9b6bacf5e2"
      },
      "execution_count": 9,
      "outputs": [
        {
          "output_type": "stream",
          "name": "stderr",
          "text": [
            "/usr/local/lib/python3.11/dist-packages/sklite/lib/abstract.py:85: UserWarning: /root/.sklite has been created.\n",
            "  warnings.warn(wrn)\n"
          ]
        }
      ]
    }
  ]
}